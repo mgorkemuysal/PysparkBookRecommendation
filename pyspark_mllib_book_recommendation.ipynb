{
  "nbformat": 4,
  "nbformat_minor": 0,
  "metadata": {
    "kernelspec": {
      "display_name": "Python 3",
      "language": "python",
      "name": "python3"
    },
    "language_info": {
      "codemirror_mode": {
        "name": "ipython",
        "version": 3
      },
      "file_extension": ".py",
      "mimetype": "text/x-python",
      "name": "python",
      "nbconvert_exporter": "python",
      "pygments_lexer": "ipython3",
      "version": "3.7.4"
    },
    "colab": {
      "name": "pyspark_mllib_book_recommendation.ipynb",
      "provenance": []
    }
  },
  "cells": [
    {
      "cell_type": "code",
      "metadata": {
        "id": "qocAz2xkdmW4",
        "colab_type": "code",
        "colab": {}
      },
      "source": [
        "from pyspark import SparkContext, SparkConf\n",
        "import numpy as np\n",
        "import matplotlib.pyplot as plt\n",
        "%matplotlib inline\n",
        "import socket\n",
        "import platform"
      ],
      "execution_count": 0,
      "outputs": []
    },
    {
      "cell_type": "code",
      "metadata": {
        "id": "r1xHrmv5dmXs",
        "colab_type": "code",
        "colab": {}
      },
      "source": [
        "conf = SparkConf().setAppName(\"151805026_MustafaGorkemUysal_BookRecommendation\")\n",
        "sc = SparkContext.getOrCreate(conf = conf)\n",
        "sc.setCheckpointDir('checkpoint/')"
      ],
      "execution_count": 0,
      "outputs": []
    },
    {
      "cell_type": "code",
      "metadata": {
        "id": "u63NIePYdmYc",
        "colab_type": "code",
        "colab": {}
      },
      "source": [
        "def my_computer():\n",
        "    try:\n",
        "        host_name = socket.gethostname()\n",
        "        host_ip = socket.gethostbyname(host_name)\n",
        "        print(\"Hostname: \", host_name)\n",
        "        print(\"IP Address: \", host_ip)\n",
        "        print(platform.uname())\n",
        "    except:\n",
        "        print(\"Something went Wrong!\")"
      ],
      "execution_count": 0,
      "outputs": []
    },
    {
      "cell_type": "code",
      "metadata": {
        "id": "SYaGutIadmZE",
        "colab_type": "code",
        "colab": {},
        "outputId": "fe2ff43d-1be9-46ad-b785-81c0bd7fb56e"
      },
      "source": [
        "my_computer()"
      ],
      "execution_count": 0,
      "outputs": [
        {
          "output_type": "stream",
          "text": [
            "Hostname:  LAPTOP-CP88LKBP\n",
            "IP Address:  192.168.1.100\n",
            "uname_result(system='Windows', node='LAPTOP-CP88LKBP', release='10', version='10.0.18362', machine='AMD64', processor='AMD64 Family 22 Model 48 Stepping 1, AuthenticAMD')\n"
          ],
          "name": "stdout"
        }
      ]
    },
    {
      "cell_type": "markdown",
      "metadata": {
        "id": "sUQy2LbNdmZm",
        "colab_type": "text"
      },
      "source": [
        "### Exploring Book Tags Dataset"
      ]
    },
    {
      "cell_type": "code",
      "metadata": {
        "id": "AafdUxr_dmZu",
        "colab_type": "code",
        "colab": {},
        "outputId": "4194470c-64bc-47ac-cbbf-ccc28f9e3876"
      },
      "source": [
        "raw_book_tags = sc.textFile('./book_tags.csv')\n",
        "raw_book_tags.take(10)\n",
        "# goodreads_book_id, tag_id, count"
      ],
      "execution_count": 0,
      "outputs": [
        {
          "output_type": "execute_result",
          "data": {
            "text/plain": [
              "['1,30574,167697',\n",
              " '1,11305,37174',\n",
              " '1,11557,34173',\n",
              " '1,8717,12986',\n",
              " '1,33114,12716',\n",
              " '1,11743,9954',\n",
              " '1,14017,7169',\n",
              " '1,5207,6221',\n",
              " '1,22743,4974',\n",
              " '1,32989,4364']"
            ]
          },
          "metadata": {
            "tags": []
          },
          "execution_count": 5
        }
      ]
    },
    {
      "cell_type": "code",
      "metadata": {
        "id": "vxD1IdHIdmaU",
        "colab_type": "code",
        "colab": {},
        "outputId": "05886ca9-3612-42fb-9f96-0c00336eb91f"
      },
      "source": [
        "book_tags_fields = raw_book_tags.map(lambda line: line.split(','))\n",
        "book_tags_fields.take(10)"
      ],
      "execution_count": 0,
      "outputs": [
        {
          "output_type": "execute_result",
          "data": {
            "text/plain": [
              "[['1', '30574', '167697'],\n",
              " ['1', '11305', '37174'],\n",
              " ['1', '11557', '34173'],\n",
              " ['1', '8717', '12986'],\n",
              " ['1', '33114', '12716'],\n",
              " ['1', '11743', '9954'],\n",
              " ['1', '14017', '7169'],\n",
              " ['1', '5207', '6221'],\n",
              " ['1', '22743', '4974'],\n",
              " ['1', '32989', '4364']]"
            ]
          },
          "metadata": {
            "tags": []
          },
          "execution_count": 6
        }
      ]
    },
    {
      "cell_type": "code",
      "metadata": {
        "id": "6S9P5aQCdma2",
        "colab_type": "code",
        "colab": {},
        "outputId": "d6f74764-9772-46fb-bdac-2292c0567805"
      },
      "source": [
        "num_books = book_tags_fields.map(lambda field: field[0]).distinct().count()\n",
        "num_tags = book_tags_fields.map(lambda field: field[1]).distinct().count()\n",
        "print('Number of Books: {}, Tags: {}'.format(num_books, num_tags))"
      ],
      "execution_count": 0,
      "outputs": [
        {
          "output_type": "stream",
          "text": [
            "Number of Books: 10000, Tags: 34252\n"
          ],
          "name": "stdout"
        }
      ]
    },
    {
      "cell_type": "code",
      "metadata": {
        "id": "2Kg5_aQOdmbQ",
        "colab_type": "code",
        "colab": {},
        "outputId": "3f48c582-07d1-413c-e6e1-5df8ee5a16c9"
      },
      "source": [
        "book_tags = book_tags_fields.map(lambda field: (field[0], field[1]))\n",
        "book_tags.take(10)"
      ],
      "execution_count": 0,
      "outputs": [
        {
          "output_type": "execute_result",
          "data": {
            "text/plain": [
              "[('1', '30574'),\n",
              " ('1', '11305'),\n",
              " ('1', '11557'),\n",
              " ('1', '8717'),\n",
              " ('1', '33114'),\n",
              " ('1', '11743'),\n",
              " ('1', '14017'),\n",
              " ('1', '5207'),\n",
              " ('1', '22743'),\n",
              " ('1', '32989')]"
            ]
          },
          "metadata": {
            "tags": []
          },
          "execution_count": 8
        }
      ]
    },
    {
      "cell_type": "code",
      "metadata": {
        "id": "Zyz52H5Jdmbn",
        "colab_type": "code",
        "colab": {},
        "outputId": "be103e2e-3c21-4ada-be13-a0e8e3acad18"
      },
      "source": [
        "tags_of_book = book_tags.groupByKey().map(lambda line: (line[0], list(line[1])))\n",
        "tags_of_book.first()"
      ],
      "execution_count": 0,
      "outputs": [
        {
          "output_type": "execute_result",
          "data": {
            "text/plain": [
              "('1',\n",
              " ['30574',\n",
              "  '11305',\n",
              "  '11557',\n",
              "  '8717',\n",
              "  '33114',\n",
              "  '11743',\n",
              "  '14017',\n",
              "  '5207',\n",
              "  '22743',\n",
              "  '32989',\n",
              "  '27199',\n",
              "  '11590',\n",
              "  '18886',\n",
              "  '6953',\n",
              "  '22753',\n",
              "  '24960',\n",
              "  '1691',\n",
              "  '6857',\n",
              "  '15965',\n",
              "  '6888',\n",
              "  '26785',\n",
              "  '6828',\n",
              "  '2104',\n",
              "  '9221',\n",
              "  '20774',\n",
              "  '7457',\n",
              "  '25765',\n",
              "  '15169',\n",
              "  '3389',\n",
              "  '1128',\n",
              "  '6895',\n",
              "  '11505',\n",
              "  '17124',\n",
              "  '22034',\n",
              "  '11370',\n",
              "  '11497',\n",
              "  '19974',\n",
              "  '3392',\n",
              "  '22973',\n",
              "  '25234',\n",
              "  '20849',\n",
              "  '33009',\n",
              "  '29452',\n",
              "  '32623',\n",
              "  '10644',\n",
              "  '31617',\n",
              "  '5751',\n",
              "  '16427',\n",
              "  '5090',\n",
              "  '25152',\n",
              "  '29011',\n",
              "  '24964',\n",
              "  '20939',\n",
              "  '33012',\n",
              "  '14024',\n",
              "  '20824',\n",
              "  '22689',\n",
              "  '6960',\n",
              "  '18045',\n",
              "  '3371',\n",
              "  '33124',\n",
              "  '21989',\n",
              "  '615',\n",
              "  '26897',\n",
              "  '32654',\n",
              "  '11491',\n",
              "  '11550',\n",
              "  '25151',\n",
              "  '18851',\n",
              "  '16799',\n",
              "  '27535',\n",
              "  '17213',\n",
              "  '33165',\n",
              "  '26138',\n",
              "  '11574',\n",
              "  '30521',\n",
              "  '25150',\n",
              "  '30573',\n",
              "  '2106',\n",
              "  '6838',\n",
              "  '17129',\n",
              "  '10197',\n",
              "  '25770',\n",
              "  '8055',\n",
              "  '25167',\n",
              "  '1120',\n",
              "  '7852',\n",
              "  '26842',\n",
              "  '25153',\n",
              "  '10641',\n",
              "  '6920',\n",
              "  '11579',\n",
              "  '22352',\n",
              "  '20781',\n",
              "  '6914',\n",
              "  '5444',\n",
              "  '18913',\n",
              "  '11595',\n",
              "  '6829',\n",
              "  '24092'])"
            ]
          },
          "metadata": {
            "tags": []
          },
          "execution_count": 9
        }
      ]
    },
    {
      "cell_type": "markdown",
      "metadata": {
        "id": "JJ3zz3l5dmcG",
        "colab_type": "text"
      },
      "source": [
        "### Exploring Tags Dataset"
      ]
    },
    {
      "cell_type": "code",
      "metadata": {
        "id": "hmzh8XGedmcM",
        "colab_type": "code",
        "colab": {},
        "outputId": "7397e8e5-88c1-4c5c-d4bd-0adc88b73789"
      },
      "source": [
        "raw_tags = sc.textFile('./tags.csv')\n",
        "raw_tags.take(10)\n",
        "# tag_id, tag_name"
      ],
      "execution_count": 0,
      "outputs": [
        {
          "output_type": "execute_result",
          "data": {
            "text/plain": [
              "['0,-',\n",
              " '1,--1-',\n",
              " '2,--10-',\n",
              " '3,--12-',\n",
              " '4,--122-',\n",
              " '5,--166-',\n",
              " '6,--17-',\n",
              " '7,--19-',\n",
              " '8,--2-',\n",
              " '9,--258-']"
            ]
          },
          "metadata": {
            "tags": []
          },
          "execution_count": 10
        }
      ]
    },
    {
      "cell_type": "code",
      "metadata": {
        "id": "h0D2vybSdmco",
        "colab_type": "code",
        "colab": {},
        "outputId": "8211b73a-4b2b-425a-929e-d40d2fbe5e44"
      },
      "source": [
        "tag_fields = raw_tags.map(lambda line: line.split(','))\n",
        "tag_fields.take(10)"
      ],
      "execution_count": 0,
      "outputs": [
        {
          "output_type": "execute_result",
          "data": {
            "text/plain": [
              "[['0', '-'],\n",
              " ['1', '--1-'],\n",
              " ['2', '--10-'],\n",
              " ['3', '--12-'],\n",
              " ['4', '--122-'],\n",
              " ['5', '--166-'],\n",
              " ['6', '--17-'],\n",
              " ['7', '--19-'],\n",
              " ['8', '--2-'],\n",
              " ['9', '--258-']]"
            ]
          },
          "metadata": {
            "tags": []
          },
          "execution_count": 11
        }
      ]
    },
    {
      "cell_type": "code",
      "metadata": {
        "id": "8Dl6ZaRsdmdH",
        "colab_type": "code",
        "colab": {},
        "outputId": "196be69e-b0b6-4a31-b107-259c5a5fe814"
      },
      "source": [
        "num_tags = tag_fields.map(lambda field: field[1]).distinct().count()\n",
        "print('Number of Tags: {}'.format(num_tags))"
      ],
      "execution_count": 0,
      "outputs": [
        {
          "output_type": "stream",
          "text": [
            "Number of Tags: 34252\n"
          ],
          "name": "stdout"
        }
      ]
    },
    {
      "cell_type": "code",
      "metadata": {
        "id": "R_JG1cyYdmdj",
        "colab_type": "code",
        "colab": {},
        "outputId": "adbe4257-4025-4dca-efc0-54ae0ebdfc3b"
      },
      "source": [
        "books_by_tag_id = book_tags_fields.map(lambda field: (field[1], field[0]))\n",
        "books_by_tag_id.take(10)\n",
        "# tag_id, book_id"
      ],
      "execution_count": 0,
      "outputs": [
        {
          "output_type": "execute_result",
          "data": {
            "text/plain": [
              "[('30574', '1'),\n",
              " ('11305', '1'),\n",
              " ('11557', '1'),\n",
              " ('8717', '1'),\n",
              " ('33114', '1'),\n",
              " ('11743', '1'),\n",
              " ('14017', '1'),\n",
              " ('5207', '1'),\n",
              " ('22743', '1'),\n",
              " ('32989', '1')]"
            ]
          },
          "metadata": {
            "tags": []
          },
          "execution_count": 13
        }
      ]
    },
    {
      "cell_type": "code",
      "metadata": {
        "id": "LwWPWuT7dmeD",
        "colab_type": "code",
        "colab": {},
        "outputId": "0741f4c9-b64f-4c77-bd69-b7141b75f650"
      },
      "source": [
        "tag_name_by_tag_id = tag_fields.map(lambda field: (field[0], field[1]))\n",
        "tag_name_by_tag_id.take(10)"
      ],
      "execution_count": 0,
      "outputs": [
        {
          "output_type": "execute_result",
          "data": {
            "text/plain": [
              "[('0', '-'),\n",
              " ('1', '--1-'),\n",
              " ('2', '--10-'),\n",
              " ('3', '--12-'),\n",
              " ('4', '--122-'),\n",
              " ('5', '--166-'),\n",
              " ('6', '--17-'),\n",
              " ('7', '--19-'),\n",
              " ('8', '--2-'),\n",
              " ('9', '--258-')]"
            ]
          },
          "metadata": {
            "tags": []
          },
          "execution_count": 14
        }
      ]
    },
    {
      "cell_type": "code",
      "metadata": {
        "id": "4eexMk7wdmef",
        "colab_type": "code",
        "colab": {},
        "outputId": "5885482e-f041-4ca0-924e-12a3e1c9e284"
      },
      "source": [
        "books_and_tag_names = books_by_tag_id.join(tag_name_by_tag_id)\n",
        "books_and_tag_names.take(10)\n",
        "# tag_id, (book_id, tag_name)"
      ],
      "execution_count": 0,
      "outputs": [
        {
          "output_type": "execute_result",
          "data": {
            "text/plain": [
              "[('30574', ('1', 'to-read')),\n",
              " ('30574', ('2', 'to-read')),\n",
              " ('30574', ('3', 'to-read')),\n",
              " ('30574', ('5', 'to-read')),\n",
              " ('30574', ('6', 'to-read')),\n",
              " ('30574', ('8', 'to-read')),\n",
              " ('30574', ('10', 'to-read')),\n",
              " ('30574', ('11', 'to-read')),\n",
              " ('30574', ('13', 'to-read')),\n",
              " ('30574', ('21', 'to-read'))]"
            ]
          },
          "metadata": {
            "tags": []
          },
          "execution_count": 15
        }
      ]
    },
    {
      "cell_type": "code",
      "metadata": {
        "id": "cvqumuvtdmfe",
        "colab_type": "code",
        "colab": {},
        "outputId": "3408eb65-9faa-42d3-ce22-a272924854ab"
      },
      "source": [
        "book_id_and_tag_name = books_and_tag_names.map(lambda line: line[1])\n",
        "book_id_and_tag_name.take(10)"
      ],
      "execution_count": 0,
      "outputs": [
        {
          "output_type": "execute_result",
          "data": {
            "text/plain": [
              "[('1', 'to-read'),\n",
              " ('2', 'to-read'),\n",
              " ('3', 'to-read'),\n",
              " ('5', 'to-read'),\n",
              " ('6', 'to-read'),\n",
              " ('8', 'to-read'),\n",
              " ('10', 'to-read'),\n",
              " ('11', 'to-read'),\n",
              " ('13', 'to-read'),\n",
              " ('21', 'to-read')]"
            ]
          },
          "metadata": {
            "tags": []
          },
          "execution_count": 16
        }
      ]
    },
    {
      "cell_type": "code",
      "metadata": {
        "id": "Bb4F6yD3dmfz",
        "colab_type": "code",
        "colab": {},
        "outputId": "9030b02a-52ea-4b70-828c-6f4805f79333"
      },
      "source": [
        "tags_of_book = book_id_and_tag_name.groupByKey().map(lambda line: (int(line[0]), list(line[1])))\n",
        "tags_of_book.first()"
      ],
      "execution_count": 0,
      "outputs": [
        {
          "output_type": "execute_result",
          "data": {
            "text/plain": [
              "(10,\n",
              " ['to-read',\n",
              "  'favorites',\n",
              "  'owned-books',\n",
              "  'children',\n",
              "  'i-own',\n",
              "  'english',\n",
              "  'british',\n",
              "  'books',\n",
              "  'childrens-books',\n",
              "  'novel',\n",
              "  'wizards',\n",
              "  'faves',\n",
              "  'favorite-series',\n",
              "  'childhood-books',\n",
              "  'potter',\n",
              "  'loved',\n",
              "  'not-interested',\n",
              "  'fantasy-read',\n",
              "  'children-s-fiction',\n",
              "  'loved-it',\n",
              "  'fantasy',\n",
              "  'currently-reading',\n",
              "  'owned',\n",
              "  'series',\n",
              "  'sci-fi-fantasy',\n",
              "  'my-books',\n",
              "  'classics',\n",
              "  'audiobook',\n",
              "  'children-s-books',\n",
              "  'novels',\n",
              "  'ya-fantasy',\n",
              "  'witches',\n",
              "  'ya-fiction',\n",
              "  'to-re-read',\n",
              "  'contemporary',\n",
              "  'read-again',\n",
              "  'harry',\n",
              "  'epic-fantasy',\n",
              "  'shelfari-wishlist',\n",
              "  'just-for-fun',\n",
              "  'fav-books',\n",
              "  'young-adult',\n",
              "  'fiction',\n",
              "  'books-i-own',\n",
              "  'ya',\n",
              "  'favourites',\n",
              "  'magic',\n",
              "  'childrens',\n",
              "  'j-k-rowling',\n",
              "  'childhood',\n",
              "  'all-time-favorites',\n",
              "  '5-stars',\n",
              "  'favorite',\n",
              "  'audiobooks',\n",
              "  'paranormal',\n",
              "  'read-more-than-once',\n",
              "  'teen',\n",
              "  'urban-fantasy',\n",
              "  'mystery',\n",
              "  'my-favorites',\n",
              "  'young-adult-fiction',\n",
              "  'youth',\n",
              "  'childhood-favorites',\n",
              "  'have',\n",
              "  'friendship',\n",
              "  'dragons',\n",
              "  'love',\n",
              "  'other',\n",
              "  'awesome',\n",
              "  'young-adult-lit',\n",
              "  'fantasy-and-sci-fi',\n",
              "  'home-library',\n",
              "  'absolute-favorites',\n",
              "  'teen-books',\n",
              "  'done',\n",
              "  'harry-potter',\n",
              "  're-read',\n",
              "  'adventure',\n",
              "  'children-s',\n",
              "  'favorite-books',\n",
              "  'kids',\n",
              "  'fantasy-sci-fi',\n",
              "  'jk-rowling',\n",
              "  'harry-potter-series',\n",
              "  'juvenile',\n",
              "  'shelfari-favorites',\n",
              "  'favourite',\n",
              "  'to-buy',\n",
              "  'all-time-favourites',\n",
              "  '5-star',\n",
              "  'children-s-literature',\n",
              "  'favs',\n",
              "  'fantasy-fiction',\n",
              "  'box-sets',\n",
              "  'amazing',\n",
              "  'harrypotter',\n",
              "  'youngadult',\n",
              "  'young-adult-books',\n",
              "  'part-of-a-series',\n",
              "  'action-adventure'])"
            ]
          },
          "metadata": {
            "tags": []
          },
          "execution_count": 17
        }
      ]
    },
    {
      "cell_type": "code",
      "metadata": {
        "id": "z9qp7ZyGdmgI",
        "colab_type": "code",
        "colab": {},
        "outputId": "8ad79e4c-8d93-46df-d5d4-a1c36d459195"
      },
      "source": [
        "# we can search and show tags that had by a book\n",
        "sorted_tags_of_book = tags_of_book.sortByKey()\n",
        "sorted_tags_of_book.lookup(2)"
      ],
      "execution_count": 0,
      "outputs": [
        {
          "output_type": "execute_result",
          "data": {
            "text/plain": [
              "[['to-read',\n",
              "  'favorites',\n",
              "  'owned-books',\n",
              "  'children',\n",
              "  'british',\n",
              "  'childrens-books',\n",
              "  'library',\n",
              "  'novel',\n",
              "  'wizards',\n",
              "  'faves',\n",
              "  'favorite-series',\n",
              "  'kids-books',\n",
              "  'magical',\n",
              "  'childhood-books',\n",
              "  'potter',\n",
              "  'fantasy-scifi',\n",
              "  'british-literature',\n",
              "  'rowling',\n",
              "  'read-multiple-times',\n",
              "  'juvenile-fiction',\n",
              "  'ya-books',\n",
              "  'fiction-fantasy',\n",
              "  'ya-lit',\n",
              "  'fantasy',\n",
              "  'currently-reading',\n",
              "  'owned',\n",
              "  'default',\n",
              "  'audiobook',\n",
              "  'novels',\n",
              "  'ya-fantasy',\n",
              "  'witches',\n",
              "  'ya-fiction',\n",
              "  'own-it',\n",
              "  'scifi-fantasy',\n",
              "  'read-in-2017',\n",
              "  'england',\n",
              "  'action',\n",
              "  'read-again',\n",
              "  'sci-fi',\n",
              "  'female-author',\n",
              "  'middle-school',\n",
              "  'young-adult',\n",
              "  'fiction',\n",
              "  'books-i-own',\n",
              "  'ya',\n",
              "  'favourites',\n",
              "  'magic',\n",
              "  'all-time-favorites',\n",
              "  'favorite',\n",
              "  'audiobooks',\n",
              "  'paranormal',\n",
              "  'my-library',\n",
              "  'teen',\n",
              "  'urban-fantasy',\n",
              "  'mystery',\n",
              "  'my-favorites',\n",
              "  'young-adult-fiction',\n",
              "  'kindle',\n",
              "  'youth',\n",
              "  'romance',\n",
              "  'read-in-2014',\n",
              "  'childhood-favorites',\n",
              "  'science-fiction-fantasy',\n",
              "  'children-s-lit',\n",
              "  'hp',\n",
              "  'classic',\n",
              "  'have',\n",
              "  'movie',\n",
              "  'read-in-2013',\n",
              "  'borrowed',\n",
              "  'childrens-lit',\n",
              "  'fantasia',\n",
              "  'children-young-adult',\n",
              "  'books-i-have',\n",
              "  'mine',\n",
              "  'harry-potter',\n",
              "  're-read',\n",
              "  'children-s',\n",
              "  'kids',\n",
              "  'fantasy-sci-fi',\n",
              "  'jk-rowling',\n",
              "  'supernatural',\n",
              "  're-reads',\n",
              "  'harry-potter-series',\n",
              "  'audio',\n",
              "  'juvenile',\n",
              "  'shelfari-favorites',\n",
              "  'favourite',\n",
              "  'all-time-favourites',\n",
              "  '5-star',\n",
              "  'coming-of-age',\n",
              "  'children-s-literature',\n",
              "  'favs',\n",
              "  '2003',\n",
              "  'boarding-school',\n",
              "  'audio-books',\n",
              "  'fantasy-fiction',\n",
              "  'read-in-2011',\n",
              "  'finished',\n",
              "  'young-adult-fantasy']]"
            ]
          },
          "metadata": {
            "tags": []
          },
          "execution_count": 18
        }
      ]
    },
    {
      "cell_type": "code",
      "metadata": {
        "id": "P-nopoEVdmga",
        "colab_type": "code",
        "colab": {},
        "outputId": "b0d63f8d-8728-4b2c-c750-2696ce6037e6"
      },
      "source": [
        "num_tags = book_id_and_tag_name.map(lambda line: (line[1], 1)).reduceByKey(lambda x, y: x + y).sortBy(lambda line: -line[1])\n",
        "num_tags.take(20)"
      ],
      "execution_count": 0,
      "outputs": [
        {
          "output_type": "execute_result",
          "data": {
            "text/plain": [
              "[('to-read', 9983),\n",
              " ('favorites', 9881),\n",
              " ('owned', 9858),\n",
              " ('books-i-own', 9799),\n",
              " ('currently-reading', 9776),\n",
              " ('library', 9415),\n",
              " ('owned-books', 9221),\n",
              " ('fiction', 9097),\n",
              " ('to-buy', 8692),\n",
              " ('kindle', 8316),\n",
              " ('default', 8239),\n",
              " ('ebook', 8054),\n",
              " ('my-books', 7561),\n",
              " ('audiobook', 7242),\n",
              " ('ebooks', 7203),\n",
              " ('wish-list', 7192),\n",
              " ('my-library', 7000),\n",
              " ('audiobooks', 6862),\n",
              " ('i-own', 6670),\n",
              " ('adult', 6604)]"
            ]
          },
          "metadata": {
            "tags": []
          },
          "execution_count": 19
        }
      ]
    },
    {
      "cell_type": "code",
      "metadata": {
        "id": "toF05eRXdmgt",
        "colab_type": "code",
        "colab": {},
        "outputId": "3af6ce49-94c4-415f-d08a-57be8302dfac"
      },
      "source": [
        "tags = num_tags.map(lambda line: line[0]).take(20)\n",
        "y_pos = np.arange(len(tags))\n",
        "tag_number = num_tags.map(lambda line: line[1]).take(20)\n",
        "plt.figure(figsize=(16, 8))\n",
        "plt.bar(y_pos, tag_number, align = 'center', alpha = 0.5, color = 'green')\n",
        "plt.xticks(y_pos, tags, rotation = 'vertical')\n",
        "plt.ylabel('Number of Tags')\n",
        "plt.title('TOP 20 BOOK TAGS')\n",
        "plt.show()"
      ],
      "execution_count": 0,
      "outputs": [
        {
          "output_type": "display_data",
          "data": {
            "image/png": "[encoded data removed]",
            "text/plain": [
              "<Figure size 1152x576 with 1 Axes>"
            ]
          },
          "metadata": {
            "tags": [],
            "needs_background": "light"
          }
        }
      ]
    },
    {
      "cell_type": "markdown",
      "metadata": {
        "id": "Hd-rpat6dmhD",
        "colab_type": "text"
      },
      "source": [
        "### Exploring To-Read Dataset"
      ]
    },
    {
      "cell_type": "code",
      "metadata": {
        "id": "6bRYCwEQdmhM",
        "colab_type": "code",
        "colab": {},
        "outputId": "40cac8e8-919e-4d04-d37d-02cce73c92fa"
      },
      "source": [
        "raw_to_read = sc.textFile('./to_read.csv')\n",
        "raw_to_read.take(10)\n",
        "# user_id, book_id"
      ],
      "execution_count": 0,
      "outputs": [
        {
          "output_type": "execute_result",
          "data": {
            "text/plain": [
              "['9,8',\n",
              " '15,398',\n",
              " '15,275',\n",
              " '37,7173',\n",
              " '34,380',\n",
              " '34,483',\n",
              " '34,8598',\n",
              " '34,3581',\n",
              " '70,498',\n",
              " '76,4250']"
            ]
          },
          "metadata": {
            "tags": []
          },
          "execution_count": 21
        }
      ]
    },
    {
      "cell_type": "code",
      "metadata": {
        "id": "aOhzbvEvdmhr",
        "colab_type": "code",
        "colab": {},
        "outputId": "9c4ac52e-a77a-4427-d6ca-40cba5456e2c"
      },
      "source": [
        "to_read_fields = raw_to_read.map(lambda line: line.split(','))\n",
        "to_read_fields.take(10)"
      ],
      "execution_count": 0,
      "outputs": [
        {
          "output_type": "execute_result",
          "data": {
            "text/plain": [
              "[['9', '8'],\n",
              " ['15', '398'],\n",
              " ['15', '275'],\n",
              " ['37', '7173'],\n",
              " ['34', '380'],\n",
              " ['34', '483'],\n",
              " ['34', '8598'],\n",
              " ['34', '3581'],\n",
              " ['70', '498'],\n",
              " ['76', '4250']]"
            ]
          },
          "metadata": {
            "tags": []
          },
          "execution_count": 22
        }
      ]
    },
    {
      "cell_type": "code",
      "metadata": {
        "id": "MFfRXgbadmh9",
        "colab_type": "code",
        "colab": {}
      },
      "source": [
        "num_to_read_users = to_read_fields.map(lambda field: field[0]).distinct().count()\n",
        "num_to_read_books = to_read_fields.map(lambda field: field[1]).distinct().count()"
      ],
      "execution_count": 0,
      "outputs": []
    },
    {
      "cell_type": "code",
      "metadata": {
        "id": "7BXCsEWvdmiS",
        "colab_type": "code",
        "colab": {},
        "outputId": "ecc5aed5-ac73-452a-a7e9-462e72392a61"
      },
      "source": [
        "print('Number of Users: {} and Books: {} to-read'.format(num_to_read_users , num_to_read_books))"
      ],
      "execution_count": 0,
      "outputs": [
        {
          "output_type": "stream",
          "text": [
            "Number of Users: 48871 and Books: 9986 to-read\n"
          ],
          "name": "stdout"
        }
      ]
    },
    {
      "cell_type": "code",
      "metadata": {
        "id": "aGXJZbOjdmil",
        "colab_type": "code",
        "colab": {},
        "outputId": "00f2fc02-3a05-4876-eaa8-79d89ab41469"
      },
      "source": [
        "wanted_books = to_read_fields.map(lambda line: (line[1], 1)).reduceByKey(lambda x, y: x + y).sortBy(lambda line: -line[1])\n",
        "wanted_books.take(20)"
      ],
      "execution_count": 0,
      "outputs": [
        {
          "output_type": "execute_result",
          "data": {
            "text/plain": [
              "[('47', 2772),\n",
              " ('143', 1967),\n",
              " ('113', 1840),\n",
              " ('13', 1812),\n",
              " ('11', 1767),\n",
              " ('45', 1717),\n",
              " ('139', 1650),\n",
              " ('39', 1619),\n",
              " ('65', 1608),\n",
              " ('35', 1576),\n",
              " ('342', 1521),\n",
              " ('185', 1502),\n",
              " ('119', 1499),\n",
              " ('8', 1498),\n",
              " ('6', 1484),\n",
              " ('4', 1478),\n",
              " ('94', 1460),\n",
              " ('89', 1458),\n",
              " ('55', 1441),\n",
              " ('61', 1435)]"
            ]
          },
          "metadata": {
            "tags": []
          },
          "execution_count": 25
        }
      ]
    },
    {
      "cell_type": "code",
      "metadata": {
        "id": "z4wJLYQ1dmi7",
        "colab_type": "code",
        "colab": {},
        "outputId": "30f3c472-1a03-4d74-9353-17b31d4b99a6"
      },
      "source": [
        "wanted_to_read = wanted_books.map(lambda line: line[0]).take(20)\n",
        "y_pos = np.arange(len(wanted_to_read))\n",
        "num_to_read = wanted_books.map(lambda line: line[1]).take(20)\n",
        "plt.figure(figsize=(16, 8))\n",
        "plt.bar(y_pos, num_to_read, align = 'center', alpha = 0.5, color = 'pink')\n",
        "plt.xticks(y_pos, wanted_to_read, rotation = 'vertical')\n",
        "plt.ylabel('Number of TO-READ')\n",
        "plt.title('TOP 20 BOOKS MOST WANTED TO READ')\n",
        "plt.show()"
      ],
      "execution_count": 0,
      "outputs": [
        {
          "output_type": "display_data",
          "data": {
            "image/png": "[encoded data removed]",
            "text/plain": [
              "<Figure size 1152x576 with 1 Axes>"
            ]
          },
          "metadata": {
            "tags": [],
            "needs_background": "light"
          }
        }
      ]
    },
    {
      "cell_type": "code",
      "metadata": {
        "id": "c0cilSnEdmjS",
        "colab_type": "code",
        "colab": {},
        "outputId": "481db378-da64-4148-fa6a-23c88ac5c8b3"
      },
      "source": [
        "user_to_read = to_read_fields.groupByKey().map(lambda line: (int(line[0]), list(line[1])))\n",
        "sorted_user_to_read = user_to_read.sortByKey()\n",
        "sorted_user_to_read.first()"
      ],
      "execution_count": 0,
      "outputs": [
        {
          "output_type": "execute_result",
          "data": {
            "text/plain": [
              "(1, ['1874', '235', '1198', '533', '112', '2058', '3334'])"
            ]
          },
          "metadata": {
            "tags": []
          },
          "execution_count": 27
        }
      ]
    },
    {
      "cell_type": "code",
      "metadata": {
        "id": "WjUgXML9dmjh",
        "colab_type": "code",
        "colab": {},
        "outputId": "a58f2e94-fc15-4204-b08e-e191dfad800c"
      },
      "source": [
        "# now we can search and show books that want to read by a particular user\n",
        "sorted_user_to_read.lookup(10)"
      ],
      "execution_count": 0,
      "outputs": [
        {
          "output_type": "execute_result",
          "data": {
            "text/plain": [
              "[['4369',\n",
              "  '6917',\n",
              "  '5556',\n",
              "  '5254',\n",
              "  '5104',\n",
              "  '662',\n",
              "  '1439',\n",
              "  '1281',\n",
              "  '1851',\n",
              "  '385',\n",
              "  '2570',\n",
              "  '6',\n",
              "  '6114',\n",
              "  '1920',\n",
              "  '7545',\n",
              "  '2441',\n",
              "  '3961',\n",
              "  '896',\n",
              "  '1082',\n",
              "  '2616',\n",
              "  '4510',\n",
              "  '3545',\n",
              "  '3059',\n",
              "  '1076',\n",
              "  '1220',\n",
              "  '7842']]"
            ]
          },
          "metadata": {
            "tags": []
          },
          "execution_count": 28
        }
      ]
    },
    {
      "cell_type": "markdown",
      "metadata": {
        "id": "a3wWbDNodmkF",
        "colab_type": "text"
      },
      "source": [
        "### Exploring Book Dataset"
      ]
    },
    {
      "cell_type": "code",
      "metadata": {
        "id": "gRXdmBZmdmkK",
        "colab_type": "code",
        "colab": {},
        "outputId": "0ef8abc2-d7f9-47ac-d687-e134bcc86f2e"
      },
      "source": [
        "raw_book = sc.textFile('./books.csv')\n",
        "raw_book.take(3)\n",
        "# book_id,goodreads_book_id,best_book_id,work_id,books_count,isbn,isbn13,\n",
        "# authors,original_publication_year,original_title,title,\n",
        "# language_code,average_rating,ratings_count,\n",
        "# work_ratings_count,work_text_reviews_count,ratings_1,ratings_2,ratings_3,ratings_4,ratings_5,image_url,small_image_url"
      ],
      "execution_count": 0,
      "outputs": [
        {
          "output_type": "execute_result",
          "data": {
            "text/plain": [
              "['1|2767052|2767052|2792775|272|439023483|9.78043902348e+12|Suzanne Collins|2008.0|The Hunger Games|The Hunger Games (The Hunger Games, #1)|eng|4.34|4780653|4942365|155254|66715|127936|560092|1481305|2706317|https://images.gr-assets.com/books/1447303603m/2767052.jpg|https://images.gr-assets.com/books/1447303603s/2767052.jpg|||',\n",
              " \"2|3|3|4640799|491|439554934|9.78043955493e+12|J.K. Rowling, Mary GrandPré|1997.0|Harry Potter and the Philosopher's Stone|Harry Potter and the Sorcerer's Stone (Harry Potter, #1)|eng|4.44|4602479|4800065|75867|75504|101676|455024|1156318|3011543|https://images.gr-assets.com/books/1474154022m/3.jpg|https://images.gr-assets.com/books/1474154022s/3.jpg|||\",\n",
              " '3|41865|41865|3212258|226|316015849|9.78031601584e+12|Stephenie Meyer|2005.0|Twilight|Twilight (Twilight, #1)|en-US|3.57|3866839|3916824|95009|456191|436802|793319|875073|1355439|https://images.gr-assets.com/books/1361039443m/41865.jpg|https://images.gr-assets.com/books/1361039443s/41865.jpg|||']"
            ]
          },
          "metadata": {
            "tags": []
          },
          "execution_count": 29
        }
      ]
    },
    {
      "cell_type": "code",
      "metadata": {
        "id": "DE6p3VzFdmkb",
        "colab_type": "code",
        "colab": {},
        "outputId": "2f19a4e7-362a-4ecd-ceb3-0d13265d8a98"
      },
      "source": [
        "book_fields = raw_book.map(lambda line: line.split('|'))\n",
        "book_fields.first()"
      ],
      "execution_count": 0,
      "outputs": [
        {
          "output_type": "execute_result",
          "data": {
            "text/plain": [
              "['1',\n",
              " '2767052',\n",
              " '2767052',\n",
              " '2792775',\n",
              " '272',\n",
              " '439023483',\n",
              " '9.78043902348e+12',\n",
              " 'Suzanne Collins',\n",
              " '2008.0',\n",
              " 'The Hunger Games',\n",
              " 'The Hunger Games (The Hunger Games, #1)',\n",
              " 'eng',\n",
              " '4.34',\n",
              " '4780653',\n",
              " '4942365',\n",
              " '155254',\n",
              " '66715',\n",
              " '127936',\n",
              " '560092',\n",
              " '1481305',\n",
              " '2706317',\n",
              " 'https://images.gr-assets.com/books/1447303603m/2767052.jpg',\n",
              " 'https://images.gr-assets.com/books/1447303603s/2767052.jpg',\n",
              " '',\n",
              " '',\n",
              " '']"
            ]
          },
          "metadata": {
            "tags": []
          },
          "execution_count": 30
        }
      ]
    },
    {
      "cell_type": "code",
      "metadata": {
        "id": "YkYQEC6Ndmku",
        "colab_type": "code",
        "colab": {},
        "outputId": "22e25b56-5d6f-4ca6-dd7b-998e5f4795d1"
      },
      "source": [
        "book_data = book_fields.map(lambda line: (line[0], line[7], line[8], line[9], line[10], line[11], line[12]))\n",
        "book_data.take(10)"
      ],
      "execution_count": 0,
      "outputs": [
        {
          "output_type": "execute_result",
          "data": {
            "text/plain": [
              "[('1',\n",
              "  'Suzanne Collins',\n",
              "  '2008.0',\n",
              "  'The Hunger Games',\n",
              "  'The Hunger Games (The Hunger Games, #1)',\n",
              "  'eng',\n",
              "  '4.34'),\n",
              " ('2',\n",
              "  'J.K. Rowling, Mary GrandPré',\n",
              "  '1997.0',\n",
              "  \"Harry Potter and the Philosopher's Stone\",\n",
              "  \"Harry Potter and the Sorcerer's Stone (Harry Potter, #1)\",\n",
              "  'eng',\n",
              "  '4.44'),\n",
              " ('3',\n",
              "  'Stephenie Meyer',\n",
              "  '2005.0',\n",
              "  'Twilight',\n",
              "  'Twilight (Twilight, #1)',\n",
              "  'en-US',\n",
              "  '3.57'),\n",
              " ('4',\n",
              "  'Harper Lee',\n",
              "  '1960.0',\n",
              "  'To Kill a Mockingbird',\n",
              "  'To Kill a Mockingbird',\n",
              "  'eng',\n",
              "  '4.25'),\n",
              " ('5',\n",
              "  'F. Scott Fitzgerald',\n",
              "  '1925.0',\n",
              "  'The Great Gatsby',\n",
              "  'The Great Gatsby',\n",
              "  'eng',\n",
              "  '3.89'),\n",
              " ('6',\n",
              "  'John Green',\n",
              "  '2012.0',\n",
              "  'The Fault in Our Stars',\n",
              "  'The Fault in Our Stars',\n",
              "  'eng',\n",
              "  '4.26'),\n",
              " ('7',\n",
              "  'J.R.R. Tolkien',\n",
              "  '1937.0',\n",
              "  'The Hobbit or There and Back Again',\n",
              "  'The Hobbit',\n",
              "  'en-US',\n",
              "  '4.25'),\n",
              " ('8',\n",
              "  'J.D. Salinger',\n",
              "  '1951.0',\n",
              "  'The Catcher in the Rye',\n",
              "  'The Catcher in the Rye',\n",
              "  'eng',\n",
              "  '3.79'),\n",
              " ('9',\n",
              "  'Dan Brown',\n",
              "  '2000.0',\n",
              "  'Angels & Demons ',\n",
              "  'Angels & Demons  (Robert Langdon, #1)',\n",
              "  'en-CA',\n",
              "  '3.85'),\n",
              " ('10',\n",
              "  'Jane Austen',\n",
              "  '1813.0',\n",
              "  'Pride and Prejudice',\n",
              "  'Pride and Prejudice',\n",
              "  'eng',\n",
              "  '4.24')]"
            ]
          },
          "metadata": {
            "tags": []
          },
          "execution_count": 31
        }
      ]
    },
    {
      "cell_type": "code",
      "metadata": {
        "id": "jOwdQroBdmk9",
        "colab_type": "code",
        "colab": {}
      },
      "source": [
        "num_books = book_data.map(lambda line: line[0]).distinct().count()\n",
        "num_authors = book_data.map(lambda line: line[1]).distinct().count()\n",
        "num_years = book_data.map(lambda line: line[2]).distinct().count()\n",
        "num_language = book_data.map(lambda line: line[5]).distinct().count()\n",
        "num_rating = book_data.map(lambda line: line[6]).count()"
      ],
      "execution_count": 0,
      "outputs": []
    },
    {
      "cell_type": "code",
      "metadata": {
        "id": "MHS0cLf0dmlR",
        "colab_type": "code",
        "colab": {},
        "outputId": "b1a97aa3-df79-4b57-84a3-5f11e0fac982"
      },
      "source": [
        "print('Number of Books: {}, Authors: {}, Years: {}, Language: {}, Rating: {}'.format(num_books, num_authors, num_years, num_language, num_rating))"
      ],
      "execution_count": 0,
      "outputs": [
        {
          "output_type": "stream",
          "text": [
            "Number of Books: 10000, Authors: 4664, Years: 294, Language: 40, Rating: 10000\n"
          ],
          "name": "stdout"
        }
      ]
    },
    {
      "cell_type": "code",
      "metadata": {
        "id": "2BU-UocLdmlf",
        "colab_type": "code",
        "colab": {}
      },
      "source": [
        "def convert_book_name(x):\n",
        "    if(x == ''):\n",
        "        return 'NULL'\n",
        "    else:\n",
        "        return x"
      ],
      "execution_count": 0,
      "outputs": []
    },
    {
      "cell_type": "code",
      "metadata": {
        "id": "CctN66Zzdmlz",
        "colab_type": "code",
        "colab": {},
        "outputId": "2166cc73-66d2-42ed-f0d6-093b4fb49e4c"
      },
      "source": [
        "convert_book_data = book_data.map(lambda line: (line[0], line[1], line[2], convert_book_name(line[3]), line[4], line[5], line[6]))\n",
        "convert_book_data.first()"
      ],
      "execution_count": 0,
      "outputs": [
        {
          "output_type": "execute_result",
          "data": {
            "text/plain": [
              "('1',\n",
              " 'Suzanne Collins',\n",
              " '2008.0',\n",
              " 'The Hunger Games',\n",
              " 'The Hunger Games (The Hunger Games, #1)',\n",
              " 'eng',\n",
              " '4.34')"
            ]
          },
          "metadata": {
            "tags": []
          },
          "execution_count": 35
        }
      ]
    },
    {
      "cell_type": "code",
      "metadata": {
        "id": "214UVj5-dmmG",
        "colab_type": "code",
        "colab": {},
        "outputId": "3e9f7627-e1cb-4878-9853-460620c1433c"
      },
      "source": [
        "clean_book_data = convert_book_data.filter(lambda line: line[3] != 'NULL')\n",
        "clean_book_data.take(5)"
      ],
      "execution_count": 0,
      "outputs": [
        {
          "output_type": "execute_result",
          "data": {
            "text/plain": [
              "[('1',\n",
              "  'Suzanne Collins',\n",
              "  '2008.0',\n",
              "  'The Hunger Games',\n",
              "  'The Hunger Games (The Hunger Games, #1)',\n",
              "  'eng',\n",
              "  '4.34'),\n",
              " ('2',\n",
              "  'J.K. Rowling, Mary GrandPré',\n",
              "  '1997.0',\n",
              "  \"Harry Potter and the Philosopher's Stone\",\n",
              "  \"Harry Potter and the Sorcerer's Stone (Harry Potter, #1)\",\n",
              "  'eng',\n",
              "  '4.44'),\n",
              " ('3',\n",
              "  'Stephenie Meyer',\n",
              "  '2005.0',\n",
              "  'Twilight',\n",
              "  'Twilight (Twilight, #1)',\n",
              "  'en-US',\n",
              "  '3.57'),\n",
              " ('4',\n",
              "  'Harper Lee',\n",
              "  '1960.0',\n",
              "  'To Kill a Mockingbird',\n",
              "  'To Kill a Mockingbird',\n",
              "  'eng',\n",
              "  '4.25'),\n",
              " ('5',\n",
              "  'F. Scott Fitzgerald',\n",
              "  '1925.0',\n",
              "  'The Great Gatsby',\n",
              "  'The Great Gatsby',\n",
              "  'eng',\n",
              "  '3.89')]"
            ]
          },
          "metadata": {
            "tags": []
          },
          "execution_count": 36
        }
      ]
    },
    {
      "cell_type": "code",
      "metadata": {
        "id": "jhcaMshsdmmY",
        "colab_type": "code",
        "colab": {},
        "outputId": "57db2e1e-10d4-4da7-a061-999b492f5754"
      },
      "source": [
        "clean_num_books = clean_book_data.count()\n",
        "clean_num_books"
      ],
      "execution_count": 0,
      "outputs": [
        {
          "output_type": "execute_result",
          "data": {
            "text/plain": [
              "9415"
            ]
          },
          "metadata": {
            "tags": []
          },
          "execution_count": 37
        }
      ]
    },
    {
      "cell_type": "code",
      "metadata": {
        "id": "9FHZuPXRdmmo",
        "colab_type": "code",
        "colab": {},
        "outputId": "9d60cd6b-700e-464d-ea4a-a8b3d08dce34"
      },
      "source": [
        "top_20_authors = clean_book_data.map(lambda line: (line[1], 1)).reduceByKey(lambda x, y: x + y).sortBy(lambda line: -line[1])\n",
        "top_20_authors.take(20)"
      ],
      "execution_count": 0,
      "outputs": [
        {
          "output_type": "execute_result",
          "data": {
            "text/plain": [
              "[('Stephen King', 59),\n",
              " ('Nora Roberts', 59),\n",
              " ('Dean Koontz', 45),\n",
              " ('Terry Pratchett', 42),\n",
              " ('Agatha Christie', 39),\n",
              " ('Meg Cabot', 37),\n",
              " ('James Patterson', 36),\n",
              " ('J.D. Robb', 33),\n",
              " ('David Baldacci', 33),\n",
              " ('John Grisham', 32),\n",
              " ('Laurell K. Hamilton', 30),\n",
              " ('Janet Evanovich', 29),\n",
              " ('Michael Connelly', 28),\n",
              " ('Sherrilyn Kenyon', 25),\n",
              " ('Patricia Cornwell', 25),\n",
              " ('Harlan Coben', 25),\n",
              " ('Tamora Pierce', 25),\n",
              " ('Jim Butcher', 24),\n",
              " ('Sue Grafton', 24),\n",
              " ('Anne Rice', 23)]"
            ]
          },
          "metadata": {
            "tags": []
          },
          "execution_count": 38
        }
      ]
    },
    {
      "cell_type": "code",
      "metadata": {
        "id": "RfU7tGfkdmm2",
        "colab_type": "code",
        "colab": {},
        "outputId": "73052698-8e65-4af3-d117-99e7312a7b89"
      },
      "source": [
        "authors = top_20_authors.map(lambda line: line[0]).take(20)\n",
        "y_pos = np.arange(len(authors))\n",
        "num_authors_book = top_20_authors.map(lambda line: line[1]).take(20)\n",
        "plt.figure(figsize=(16, 8))\n",
        "plt.bar(y_pos, num_authors_book, align = 'center', alpha = 0.5, color = 'purple')\n",
        "plt.xticks(y_pos, authors, rotation = 'vertical')\n",
        "plt.ylabel('Number of Books')\n",
        "plt.title('TOP 20 MOST PRODUCTIVE AUTHORS')\n",
        "plt.show()"
      ],
      "execution_count": 0,
      "outputs": [
        {
          "output_type": "display_data",
          "data": {
            "image/png": "[encoded data removed]",
            "text/plain": [
              "<Figure size 1152x576 with 1 Axes>"
            ]
          },
          "metadata": {
            "tags": [],
            "needs_background": "light"
          }
        }
      ]
    },
    {
      "cell_type": "code",
      "metadata": {
        "id": "oYc61KWvdmnE",
        "colab_type": "code",
        "colab": {},
        "outputId": "2e6f4726-a7a8-44f5-84ed-4caaf9f903b9"
      },
      "source": [
        "top_20_years = clean_book_data.map(lambda line: (line[2], 1)).reduceByKey(lambda x, y: x + y).sortBy(lambda line: -line[1])\n",
        "top_20_years.take(20)"
      ],
      "execution_count": 0,
      "outputs": [
        {
          "output_type": "execute_result",
          "data": {
            "text/plain": [
              "[('2012.0', 493),\n",
              " ('2011.0', 490),\n",
              " ('2013.0', 434),\n",
              " ('2010.0', 422),\n",
              " ('2009.0', 417),\n",
              " ('2014.0', 391),\n",
              " ('2008.0', 376),\n",
              " ('2006.0', 356),\n",
              " ('2007.0', 354),\n",
              " ('2005.0', 321),\n",
              " ('2004.0', 294),\n",
              " ('2003.0', 282),\n",
              " ('2015.0', 259),\n",
              " ('2001.0', 221),\n",
              " ('2002.0', 220),\n",
              " ('2000.0', 203),\n",
              " ('1999.0', 184),\n",
              " ('2016.0', 173),\n",
              " ('1998.0', 170),\n",
              " ('1997.0', 162)]"
            ]
          },
          "metadata": {
            "tags": []
          },
          "execution_count": 40
        }
      ]
    },
    {
      "cell_type": "code",
      "metadata": {
        "id": "0SIsN4Q9dmnU",
        "colab_type": "code",
        "colab": {},
        "outputId": "3f202f3a-c1e9-46f9-d259-8d03f535fa58"
      },
      "source": [
        "years = top_20_years.map(lambda line: line[0]).take(20)\n",
        "y_pos = np.arange(len(years))\n",
        "num_book_years = top_20_years.map(lambda line: line[1]).take(20)\n",
        "plt.figure(figsize=(16, 8))\n",
        "plt.bar(y_pos, num_book_years, align = 'center', alpha = 0.5, color = 'red')\n",
        "plt.xticks(y_pos, years, rotation = 'vertical')\n",
        "plt.ylabel('Number of Books')\n",
        "plt.title('TOP 20 MOST PRODUCTIVE YEARS')\n",
        "plt.show()"
      ],
      "execution_count": 0,
      "outputs": [
        {
          "output_type": "display_data",
          "data": {
            "image/png": "[encoded data removed]",
            "text/plain": [
              "<Figure size 1152x576 with 1 Axes>"
            ]
          },
          "metadata": {
            "tags": [],
            "needs_background": "light"
          }
        }
      ]
    },
    {
      "cell_type": "markdown",
      "metadata": {
        "id": "Z2bCGFa8dmnh",
        "colab_type": "text"
      },
      "source": [
        "### Exploring Rating Dataset"
      ]
    },
    {
      "cell_type": "code",
      "metadata": {
        "id": "imw4XPA1dmnk",
        "colab_type": "code",
        "colab": {},
        "outputId": "d4630e9f-b3a9-4d30-a3db-1924734f6f81"
      },
      "source": [
        "raw_ratings = sc.textFile('./ratings.csv')\n",
        "raw_ratings.take(10)"
      ],
      "execution_count": 0,
      "outputs": [
        {
          "output_type": "execute_result",
          "data": {
            "text/plain": [
              "['1,258,5',\n",
              " '2,4081,4',\n",
              " '2,260,5',\n",
              " '2,9296,5',\n",
              " '2,2318,3',\n",
              " '2,26,4',\n",
              " '2,315,3',\n",
              " '2,33,4',\n",
              " '2,301,5',\n",
              " '2,2686,5']"
            ]
          },
          "metadata": {
            "tags": []
          },
          "execution_count": 42
        }
      ]
    },
    {
      "cell_type": "code",
      "metadata": {
        "id": "rxdEoZdfdmnz",
        "colab_type": "code",
        "colab": {},
        "outputId": "cb7649ff-98cd-47db-c294-a9ed0ad83647"
      },
      "source": [
        "rating_fields = raw_ratings.map(lambda line: line.split(','))\n",
        "rating_fields.take(10)\n",
        "# user_id, book_id, rating"
      ],
      "execution_count": 0,
      "outputs": [
        {
          "output_type": "execute_result",
          "data": {
            "text/plain": [
              "[['1', '258', '5'],\n",
              " ['2', '4081', '4'],\n",
              " ['2', '260', '5'],\n",
              " ['2', '9296', '5'],\n",
              " ['2', '2318', '3'],\n",
              " ['2', '26', '4'],\n",
              " ['2', '315', '3'],\n",
              " ['2', '33', '4'],\n",
              " ['2', '301', '5'],\n",
              " ['2', '2686', '5']]"
            ]
          },
          "metadata": {
            "tags": []
          },
          "execution_count": 43
        }
      ]
    },
    {
      "cell_type": "code",
      "metadata": {
        "id": "VkfDwJ9udmoD",
        "colab_type": "code",
        "colab": {},
        "outputId": "017be9ef-244e-4835-e28f-b5818beeb151"
      },
      "source": [
        "number_of_user = rating_fields.map(lambda line: line[0]).distinct().count()\n",
        "print('Number of Users:', number_of_user)"
      ],
      "execution_count": 0,
      "outputs": [
        {
          "output_type": "stream",
          "text": [
            "Number of Users: 13123\n"
          ],
          "name": "stdout"
        }
      ]
    },
    {
      "cell_type": "code",
      "metadata": {
        "id": "2u2Meh_rdmoX",
        "colab_type": "code",
        "colab": {},
        "outputId": "673b8591-f2a7-4662-cfb5-fdd9c32eccd9"
      },
      "source": [
        "number_of_books = rating_fields.map(lambda line: line[1]).distinct().count()\n",
        "print('Number of Books:', number_of_books)"
      ],
      "execution_count": 0,
      "outputs": [
        {
          "output_type": "stream",
          "text": [
            "Number of Books: 7774\n"
          ],
          "name": "stdout"
        }
      ]
    },
    {
      "cell_type": "code",
      "metadata": {
        "id": "CogWqfvPdmon",
        "colab_type": "code",
        "colab": {},
        "outputId": "9ba81fd3-4cf7-49f2-d5da-db24a3a5d726"
      },
      "source": [
        "number_of_ratings = rating_fields.map(lambda line: line[2]).count()\n",
        "print('Number of Ratings: ', number_of_ratings)"
      ],
      "execution_count": 0,
      "outputs": [
        {
          "output_type": "stream",
          "text": [
            "Number of Ratings:  1048575\n"
          ],
          "name": "stdout"
        }
      ]
    },
    {
      "cell_type": "code",
      "metadata": {
        "id": "S2S87-_Ddmo1",
        "colab_type": "code",
        "colab": {}
      },
      "source": [
        "ratings = rating_fields.map(lambda line: int(line[2]))\n",
        "count_by_rating = ratings.countByValue()\n",
        "x_axis = list(count_by_rating.keys())\n",
        "y_axis = np.array([float(c) for c in count_by_rating.values()])"
      ],
      "execution_count": 0,
      "outputs": []
    },
    {
      "cell_type": "code",
      "metadata": {
        "id": "XMVlb9AVdmpG",
        "colab_type": "code",
        "colab": {},
        "outputId": "37164d34-5e5e-40c0-a90e-d3bedac1cf8c"
      },
      "source": [
        "print(count_by_rating)\n",
        "print(x_axis)\n",
        "print(y_axis)"
      ],
      "execution_count": 0,
      "outputs": [
        {
          "output_type": "stream",
          "text": [
            "defaultdict(<class 'int'>, {5: 297876, 4: 376467, 3: 272805, 2: 76751, 1: 24676})\n",
            "[5, 4, 3, 2, 1]\n",
            "[297876. 376467. 272805.  76751.  24676.]\n"
          ],
          "name": "stdout"
        }
      ]
    },
    {
      "cell_type": "code",
      "metadata": {
        "id": "JlrFmVRbdmpX",
        "colab_type": "code",
        "colab": {}
      },
      "source": [
        "# we normalize the y-axis here to percentages\n",
        "y_axis_normed = y_axis / y_axis.sum()\n",
        "pos = np.arange(len(x_axis))\n",
        "width = 1.0"
      ],
      "execution_count": 0,
      "outputs": []
    },
    {
      "cell_type": "code",
      "metadata": {
        "id": "S9pZk69edmpw",
        "colab_type": "code",
        "colab": {},
        "outputId": "44dc9fe9-30cf-40cd-e0f2-2d3e53fbc609"
      },
      "source": [
        "ax = plt.axes()\n",
        "ax.set_xticks(pos + (width / 2))\n",
        "ax.set_xticklabels(x_axis)\n",
        "\n",
        "plt.bar(pos, y_axis_normed, width, color='orange')\n",
        "plt.xticks(rotation=30)\n",
        "fig = plt.gcf()\n",
        "fig.set_size_inches(16, 10)"
      ],
      "execution_count": 0,
      "outputs": [
        {
          "output_type": "display_data",
          "data": {
            "image/png": "[encoded data removed]",
            "text/plain": [
              "<Figure size 1152x720 with 1 Axes>"
            ]
          },
          "metadata": {
            "tags": [],
            "needs_background": "light"
          }
        }
      ]
    },
    {
      "cell_type": "markdown",
      "metadata": {
        "id": "gyFVvRi3dmp_",
        "colab_type": "text"
      },
      "source": [
        "### Building a Recommendation Engine with Pyspark"
      ]
    },
    {
      "cell_type": "code",
      "metadata": {
        "id": "QXH2JYbGdmqC",
        "colab_type": "code",
        "colab": {},
        "outputId": "0cc03bc0-cc74-4d5e-e3da-47420c646cbc"
      },
      "source": [
        "rating_fields.take(10)"
      ],
      "execution_count": 0,
      "outputs": [
        {
          "output_type": "execute_result",
          "data": {
            "text/plain": [
              "[['1', '258', '5'],\n",
              " ['2', '4081', '4'],\n",
              " ['2', '260', '5'],\n",
              " ['2', '9296', '5'],\n",
              " ['2', '2318', '3'],\n",
              " ['2', '26', '4'],\n",
              " ['2', '315', '3'],\n",
              " ['2', '33', '4'],\n",
              " ['2', '301', '5'],\n",
              " ['2', '2686', '5']]"
            ]
          },
          "metadata": {
            "tags": []
          },
          "execution_count": 51
        }
      ]
    },
    {
      "cell_type": "code",
      "metadata": {
        "id": "Wk_5fd3IdmqS",
        "colab_type": "code",
        "colab": {}
      },
      "source": [
        "(training_data , test_data) = rating_fields.randomSplit([0.7,0.3])"
      ],
      "execution_count": 0,
      "outputs": []
    },
    {
      "cell_type": "code",
      "metadata": {
        "id": "5JpzhSi3dmqf",
        "colab_type": "code",
        "colab": {},
        "outputId": "c7ddbb58-c091-40c7-e707-3cc03a299fa8"
      },
      "source": [
        "training_data.take(10)"
      ],
      "execution_count": 0,
      "outputs": [
        {
          "output_type": "execute_result",
          "data": {
            "text/plain": [
              "[['1', '258', '5'],\n",
              " ['2', '4081', '4'],\n",
              " ['2', '260', '5'],\n",
              " ['2', '315', '3'],\n",
              " ['2', '301', '5'],\n",
              " ['2', '2686', '5'],\n",
              " ['2', '8519', '5'],\n",
              " ['4', '70', '4'],\n",
              " ['4', '264', '3'],\n",
              " ['4', '18', '5']]"
            ]
          },
          "metadata": {
            "tags": []
          },
          "execution_count": 53
        }
      ]
    },
    {
      "cell_type": "code",
      "metadata": {
        "id": "EZDGmQz2dmqt",
        "colab_type": "code",
        "colab": {},
        "outputId": "7b17aa85-0476-4e37-966f-b0bf33a42e93"
      },
      "source": [
        "test_data.take(10)"
      ],
      "execution_count": 0,
      "outputs": [
        {
          "output_type": "execute_result",
          "data": {
            "text/plain": [
              "[['2', '9296', '5'],\n",
              " ['2', '2318', '3'],\n",
              " ['2', '26', '4'],\n",
              " ['2', '33', '4'],\n",
              " ['2', '3753', '5'],\n",
              " ['4', '388', '4'],\n",
              " ['4', '2', '5'],\n",
              " ['4', '23', '5'],\n",
              " ['4', '24', '5'],\n",
              " ['4', '35', '5']]"
            ]
          },
          "metadata": {
            "tags": []
          },
          "execution_count": 54
        }
      ]
    },
    {
      "cell_type": "code",
      "metadata": {
        "id": "FtBcJ3I_dmrH",
        "colab_type": "code",
        "colab": {},
        "outputId": "40ab3eaa-9091-42b0-e84f-faa57c1e1602"
      },
      "source": [
        "from pyspark.mllib.recommendation import ALS\n",
        "from pyspark.mllib.recommendation import Rating\n",
        "\n",
        "rating = training_data.map(lambda x: Rating(int(x[0]), int(x[1]), float(x[2])))\n",
        "rating.take(10)"
      ],
      "execution_count": 0,
      "outputs": [
        {
          "output_type": "execute_result",
          "data": {
            "text/plain": [
              "[Rating(user=1, product=258, rating=5.0),\n",
              " Rating(user=2, product=4081, rating=4.0),\n",
              " Rating(user=2, product=260, rating=5.0),\n",
              " Rating(user=2, product=315, rating=3.0),\n",
              " Rating(user=2, product=301, rating=5.0),\n",
              " Rating(user=2, product=2686, rating=5.0),\n",
              " Rating(user=2, product=8519, rating=5.0),\n",
              " Rating(user=4, product=70, rating=4.0),\n",
              " Rating(user=4, product=264, rating=3.0),\n",
              " Rating(user=4, product=18, rating=5.0)]"
            ]
          },
          "metadata": {
            "tags": []
          },
          "execution_count": 55
        }
      ]
    },
    {
      "cell_type": "code",
      "metadata": {
        "id": "s7QF2KFYdmrX",
        "colab_type": "code",
        "colab": {}
      },
      "source": [
        "#rank = [10, 50, 200]\n",
        "#iteration = [10, 50, 200]\n",
        "#lambda_ = [0.01, 0.1]\n",
        "#model_list = []\n",
        "#def train_model():\n",
        "    #for i in rank:\n",
        "        #for j in iteration:\n",
        "            #for k in lambda_:\n",
        "                #model = ALS.train(rating, i, j, k)\n",
        "                #model_list.append(model)\n",
        "    #return model_list"
      ],
      "execution_count": 0,
      "outputs": []
    },
    {
      "cell_type": "code",
      "metadata": {
        "id": "uWdX3CQkdmrk",
        "colab_type": "code",
        "colab": {}
      },
      "source": [
        "#train_model()"
      ],
      "execution_count": 0,
      "outputs": []
    },
    {
      "cell_type": "markdown",
      "metadata": {
        "id": "0B1Q3uNVdmry",
        "colab_type": "text"
      },
      "source": [
        "### Training the Recommendation Model"
      ]
    },
    {
      "cell_type": "markdown",
      "metadata": {
        "id": "T5wWKjmGdmr0",
        "colab_type": "text"
      },
      "source": [
        "### Models"
      ]
    },
    {
      "cell_type": "code",
      "metadata": {
        "id": "BA21NuJKdmr2",
        "colab_type": "code",
        "colab": {}
      },
      "source": [
        "model1 = ALS.train(rating, rank=10, iterations=10, lambda_=0.01, seed=5026)"
      ],
      "execution_count": 0,
      "outputs": []
    },
    {
      "cell_type": "code",
      "metadata": {
        "id": "3R4vjWz_dmsE",
        "colab_type": "code",
        "colab": {},
        "outputId": "7ceab416-1858-4b81-a5c2-bd0e8fe90a83"
      },
      "source": [
        "model1.userFeatures().count()"
      ],
      "execution_count": 0,
      "outputs": [
        {
          "output_type": "execute_result",
          "data": {
            "text/plain": [
              "13083"
            ]
          },
          "metadata": {
            "tags": []
          },
          "execution_count": 59
        }
      ]
    },
    {
      "cell_type": "code",
      "metadata": {
        "id": "T4IO-G51dmsQ",
        "colab_type": "code",
        "colab": {},
        "outputId": "524e4263-56fe-46d8-bb4f-eba499005cad"
      },
      "source": [
        "model1.productFeatures().count()"
      ],
      "execution_count": 0,
      "outputs": [
        {
          "output_type": "execute_result",
          "data": {
            "text/plain": [
              "7692"
            ]
          },
          "metadata": {
            "tags": []
          },
          "execution_count": 60
        }
      ]
    },
    {
      "cell_type": "markdown",
      "metadata": {
        "id": "vfFQe81ydmsf",
        "colab_type": "text"
      },
      "source": [
        "### Using the Recommendation Model"
      ]
    },
    {
      "cell_type": "code",
      "metadata": {
        "id": "fcBNiUH_dmsj",
        "colab_type": "code",
        "colab": {},
        "outputId": "58f92f40-773f-46e0-a660-fb56936cd883"
      },
      "source": [
        "predictionTestData = test_data.map(lambda line: (int(line[0]),int(line[1])))\n",
        "predictionTestData.first()"
      ],
      "execution_count": 0,
      "outputs": [
        {
          "output_type": "execute_result",
          "data": {
            "text/plain": [
              "(2, 9296)"
            ]
          },
          "metadata": {
            "tags": []
          },
          "execution_count": 61
        }
      ]
    },
    {
      "cell_type": "code",
      "metadata": {
        "id": "LMFDdYlOdmsv",
        "colab_type": "code",
        "colab": {}
      },
      "source": [
        "predictions1 = model1.predictAll(predictionTestData)"
      ],
      "execution_count": 0,
      "outputs": []
    },
    {
      "cell_type": "code",
      "metadata": {
        "id": "ioklloyedms6",
        "colab_type": "code",
        "colab": {},
        "outputId": "ad6dba0d-5402-4d63-c8b0-2a7905eef1ee"
      },
      "source": [
        "predictions1.first()"
      ],
      "execution_count": 0,
      "outputs": [
        {
          "output_type": "execute_result",
          "data": {
            "text/plain": [
              "Rating(user=4904, product=208, rating=4.408127481323358)"
            ]
          },
          "metadata": {
            "tags": []
          },
          "execution_count": 63
        }
      ]
    },
    {
      "cell_type": "code",
      "metadata": {
        "id": "-Xi1yicHdmtH",
        "colab_type": "code",
        "colab": {},
        "outputId": "a613a5b4-eace-4447-ffca-4ef5cb24f3cf"
      },
      "source": [
        "userId = 2\n",
        "K = 10\n",
        "top_k_recs = model1.recommendProducts(userId, K)\n",
        "for i in top_k_recs:\n",
        "    print(i)"
      ],
      "execution_count": 0,
      "outputs": [
        {
          "output_type": "stream",
          "text": [
            "Rating(user=2, product=9119, rating=7.197048680165635)\n",
            "Rating(user=2, product=5708, rating=7.186536762843341)\n",
            "Rating(user=2, product=1331, rating=6.979478532004132)\n",
            "Rating(user=2, product=8259, rating=6.960093854271813)\n",
            "Rating(user=2, product=9182, rating=6.868653402808722)\n",
            "Rating(user=2, product=9472, rating=6.865930860694119)\n",
            "Rating(user=2, product=6751, rating=6.839914185247304)\n",
            "Rating(user=2, product=6591, rating=6.80030648829179)\n",
            "Rating(user=2, product=3738, rating=6.784370381848685)\n",
            "Rating(user=2, product=7910, rating=6.760779204581744)\n"
          ],
          "name": "stdout"
        }
      ]
    },
    {
      "cell_type": "markdown",
      "metadata": {
        "id": "rcz6BUbIdmtV",
        "colab_type": "text"
      },
      "source": [
        "### Inspecting the Recommendations"
      ]
    },
    {
      "cell_type": "code",
      "metadata": {
        "id": "wxK-q9rHdmtY",
        "colab_type": "code",
        "colab": {},
        "outputId": "e0900527-bafa-4d0c-8738-462c1ac2d322"
      },
      "source": [
        "clean_book_data.first()"
      ],
      "execution_count": 0,
      "outputs": [
        {
          "output_type": "execute_result",
          "data": {
            "text/plain": [
              "('1',\n",
              " 'Suzanne Collins',\n",
              " '2008.0',\n",
              " 'The Hunger Games',\n",
              " 'The Hunger Games (The Hunger Games, #1)',\n",
              " 'eng',\n",
              " '4.34')"
            ]
          },
          "metadata": {
            "tags": []
          },
          "execution_count": 65
        }
      ]
    },
    {
      "cell_type": "code",
      "metadata": {
        "id": "VJkk7M__dmto",
        "colab_type": "code",
        "colab": {},
        "outputId": "8d340a30-d92c-45b6-dfca-f3d8cc84ef79"
      },
      "source": [
        "book_titles = clean_book_data.map(lambda line: (int(line[0]), line[3])).collectAsMap()\n",
        "book_titles[2]"
      ],
      "execution_count": 0,
      "outputs": [
        {
          "output_type": "execute_result",
          "data": {
            "text/plain": [
              "\"Harry Potter and the Philosopher's Stone\""
            ]
          },
          "metadata": {
            "tags": []
          },
          "execution_count": 66
        }
      ]
    },
    {
      "cell_type": "code",
      "metadata": {
        "id": "4xRLFm2Pdmt3",
        "colab_type": "code",
        "colab": {},
        "outputId": "3dda2d4d-2417-4857-e023-4b09e22ff1dc"
      },
      "source": [
        "books_by_user = rating.keyBy(lambda x: x.user).lookup(2)\n",
        "books_by_user"
      ],
      "execution_count": 0,
      "outputs": [
        {
          "output_type": "execute_result",
          "data": {
            "text/plain": [
              "[Rating(user=2, product=4081, rating=4.0),\n",
              " Rating(user=2, product=260, rating=5.0),\n",
              " Rating(user=2, product=315, rating=3.0),\n",
              " Rating(user=2, product=301, rating=5.0),\n",
              " Rating(user=2, product=2686, rating=5.0),\n",
              " Rating(user=2, product=8519, rating=5.0)]"
            ]
          },
          "metadata": {
            "tags": []
          },
          "execution_count": 67
        }
      ]
    },
    {
      "cell_type": "code",
      "metadata": {
        "id": "kB6EOucQdmuE",
        "colab_type": "code",
        "colab": {},
        "outputId": "339f4d29-2f84-46dd-e3f1-f6bdcde419a8"
      },
      "source": [
        "len(books_by_user)"
      ],
      "execution_count": 0,
      "outputs": [
        {
          "output_type": "execute_result",
          "data": {
            "text/plain": [
              "6"
            ]
          },
          "metadata": {
            "tags": []
          },
          "execution_count": 68
        }
      ]
    },
    {
      "cell_type": "code",
      "metadata": {
        "id": "KswDB_3jdmuX",
        "colab_type": "code",
        "colab": {}
      },
      "source": [
        "books_by_user.sort(reverse = True,key = lambda x: x.rating)\n",
        "sc.parallelize(books_by_user[:10]).map(lambda rating: (book_titles[rating.product], rating.rating)).collect()"
      ],
      "execution_count": 0,
      "outputs": []
    },
    {
      "cell_type": "code",
      "metadata": {
        "id": "tZ3FfuFRdmu6",
        "colab_type": "code",
        "colab": {}
      },
      "source": [
        "sc.parallelize(top_k_recs).map(lambda rating: (book_titles[rating.product], rating.rating)).collect()"
      ],
      "execution_count": 0,
      "outputs": []
    },
    {
      "cell_type": "markdown",
      "metadata": {
        "id": "H-4Pl8TzdmvJ",
        "colab_type": "text"
      },
      "source": [
        "### Performance Evaulation - MSE"
      ]
    },
    {
      "cell_type": "code",
      "metadata": {
        "id": "KwUCjGOBdmvL",
        "colab_type": "code",
        "colab": {},
        "outputId": "0025972d-a19b-47ef-9055-59f7e1f03a5f"
      },
      "source": [
        "allPredictedRatings1=predictions1.map(lambda line: (float (line[2])))\n",
        "allPredictedRatings1.take(5)"
      ],
      "execution_count": 0,
      "outputs": [
        {
          "output_type": "execute_result",
          "data": {
            "text/plain": [
              "[4.408127481323358,\n",
              " 3.4678462956896485,\n",
              " 5.060503153690709,\n",
              " 2.4146345587381814,\n",
              " 3.2269153214190736]"
            ]
          },
          "metadata": {
            "tags": []
          },
          "execution_count": 70
        }
      ]
    },
    {
      "cell_type": "code",
      "metadata": {
        "id": "ZnrymMFqdmvc",
        "colab_type": "code",
        "colab": {}
      },
      "source": [
        "arr_allPredictedRatings = allPredictedRatings1.collect()"
      ],
      "execution_count": 0,
      "outputs": []
    },
    {
      "cell_type": "code",
      "metadata": {
        "id": "yioYg1dKdmvs",
        "colab_type": "code",
        "colab": {},
        "outputId": "72fcf157-b9f8-4097-ab4f-17a8a8c4ab47"
      },
      "source": [
        "type(arr_allPredictedRatings)"
      ],
      "execution_count": 0,
      "outputs": [
        {
          "output_type": "execute_result",
          "data": {
            "text/plain": [
              "list"
            ]
          },
          "metadata": {
            "tags": []
          },
          "execution_count": 72
        }
      ]
    },
    {
      "cell_type": "code",
      "metadata": {
        "id": "CC7-y22admwo",
        "colab_type": "code",
        "colab": {},
        "outputId": "99837001-64de-4f25-ab52-f16859f54cf0"
      },
      "source": [
        "actualRatings = test_data.map(lambda line: (float(line[2])))\n",
        "actualRatings.take(5)"
      ],
      "execution_count": 0,
      "outputs": [
        {
          "output_type": "execute_result",
          "data": {
            "text/plain": [
              "[5.0, 3.0, 4.0, 4.0, 5.0]"
            ]
          },
          "metadata": {
            "tags": []
          },
          "execution_count": 73
        }
      ]
    },
    {
      "cell_type": "code",
      "metadata": {
        "id": "sgX205Fadmw4",
        "colab_type": "code",
        "colab": {}
      },
      "source": [
        "arr_allActualRatings = actualRatings.collect()"
      ],
      "execution_count": 0,
      "outputs": []
    },
    {
      "cell_type": "code",
      "metadata": {
        "id": "qAxXMwS7dmxO",
        "colab_type": "code",
        "colab": {},
        "outputId": "7495c2cb-b821-47f3-ab82-fb9c17339604"
      },
      "source": [
        "type(arr_allActualRatings)"
      ],
      "execution_count": 0,
      "outputs": [
        {
          "output_type": "execute_result",
          "data": {
            "text/plain": [
              "list"
            ]
          },
          "metadata": {
            "tags": []
          },
          "execution_count": 75
        }
      ]
    },
    {
      "cell_type": "code",
      "metadata": {
        "id": "nX3_xT_kdmxh",
        "colab_type": "code",
        "colab": {},
        "outputId": "e277d96e-2076-4d12-d209-135297c3bbad"
      },
      "source": [
        "sum = 0 \n",
        "n = len(arr_allPredictedRatings)\n",
        "for i in range (0,n):\n",
        "    difference = arr_allActualRatings[i] - arr_allPredictedRatings[i]\n",
        "    squared_difference = difference **2 \n",
        "    sum = sum + squared_difference \n",
        "MSE = sum/n\n",
        "print(\"The Mean Square Error : \",MSE)"
      ],
      "execution_count": 0,
      "outputs": [
        {
          "output_type": "stream",
          "text": [
            "The Mean Square Error :  1.6729735917812272\n"
          ],
          "name": "stdout"
        }
      ]
    },
    {
      "cell_type": "code",
      "metadata": {
        "id": "3ijCLDHbdmxv",
        "colab_type": "code",
        "colab": {},
        "outputId": "1b206cca-1049-4027-a039-0076b111e168"
      },
      "source": [
        "prediction_join = predictions1.map(lambda line: ((int(line[0]), int(line[1])), line[2]))\n",
        "prediction_join.take(10)"
      ],
      "execution_count": 0,
      "outputs": [
        {
          "output_type": "execute_result",
          "data": {
            "text/plain": [
              "[((4904, 208), 4.408127481323358),\n",
              " ((4904, 28), 3.4678462956896485),\n",
              " ((4904, 9760), 5.060503153690709),\n",
              " ((4904, 40), 2.4146345587381814),\n",
              " ((4904, 8), 3.2269153214190736),\n",
              " ((4904, 93), 4.604523056197531),\n",
              " ((4904, 9301), 3.619318409720967),\n",
              " ((4904, 209), 3.980254204322203),\n",
              " ((4904, 5), 3.558834012698509),\n",
              " ((4904, 38), 4.271363517113113)]"
            ]
          },
          "metadata": {
            "tags": []
          },
          "execution_count": 77
        }
      ]
    },
    {
      "cell_type": "code",
      "metadata": {
        "id": "ZcxEAw2Ydmx_",
        "colab_type": "code",
        "colab": {},
        "outputId": "82d60443-254f-4098-8919-1c298cf69dfe"
      },
      "source": [
        "actual_join = test_data.map(lambda line: ((int(line[0]), int(line[1])), line[2]))\n",
        "actual_join.take(10)"
      ],
      "execution_count": 0,
      "outputs": [
        {
          "output_type": "execute_result",
          "data": {
            "text/plain": [
              "[((2, 9296), '5'),\n",
              " ((2, 2318), '3'),\n",
              " ((2, 26), '4'),\n",
              " ((2, 33), '4'),\n",
              " ((2, 3753), '5'),\n",
              " ((4, 388), '4'),\n",
              " ((4, 2), '5'),\n",
              " ((4, 23), '5'),\n",
              " ((4, 24), '5'),\n",
              " ((4, 35), '5')]"
            ]
          },
          "metadata": {
            "tags": []
          },
          "execution_count": 78
        }
      ]
    },
    {
      "cell_type": "code",
      "metadata": {
        "id": "B8jde4wIdmyM",
        "colab_type": "code",
        "colab": {},
        "outputId": "37e49e5e-961b-4c68-91d6-6938015f51f8"
      },
      "source": [
        "actual_and_predicted_ratings = actual_join.join(prediction_join)\n",
        "actual_and_predicted_ratings.take(10)"
      ],
      "execution_count": 0,
      "outputs": [
        {
          "output_type": "execute_result",
          "data": {
            "text/plain": [
              "[((4, 2), ('5', 4.848134130587729)),\n",
              " ((4, 24), ('5', 4.871712541968995)),\n",
              " ((1, 47), ('3', 4.043616471689718)),\n",
              " ((4, 42), ('5', 4.026873082009583)),\n",
              " ((4, 350), ('3', 3.694619116271472)),\n",
              " ((9, 317), ('4', 3.0542968889417597)),\n",
              " ((9, 81), ('1', 3.16399169305199)),\n",
              " ((9, 2193), ('2', 2.9158673788792635)),\n",
              " ((9, 181), ('5', 3.741250746825285)),\n",
              " ((9, 1301), ('2', 2.42521259024409))]"
            ]
          },
          "metadata": {
            "tags": []
          },
          "execution_count": 79
        }
      ]
    },
    {
      "cell_type": "code",
      "metadata": {
        "id": "m6RsK6WBdmyZ",
        "colab_type": "code",
        "colab": {}
      },
      "source": [
        ""
      ],
      "execution_count": 0,
      "outputs": []
    }
  ]
}